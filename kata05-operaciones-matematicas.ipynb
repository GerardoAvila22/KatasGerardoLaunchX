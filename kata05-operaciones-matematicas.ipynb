{
 "cells": [
  {
   "cell_type": "markdown",
   "metadata": {},
   "source": [
    "#Ejercicio1 - Utilizar operadores aritméticos"
   ]
  },
  {
   "cell_type": "code",
   "execution_count": 7,
   "metadata": {},
   "outputs": [
    {
     "name": "stdout",
     "output_type": "stream",
     "text": [
      "Distancia en Km: 628949330\n",
      "Distancia en millas: 390577533.93\n"
     ]
    }
   ],
   "source": [
    "#Valores\n",
    "#Tierra (149.597.870 km) y Júpiter (778.547.200 km).\n",
    "distanceEarth = 149597870\n",
    "distanceJupyter = 778547200\n",
    "\n",
    "#Calculamos la distancia en Km\n",
    "distanceKm = distanceJupyter - distanceEarth \n",
    "print (f\"Distancia en Km: {distance}\")\n",
    "\n",
    "#Convertimos la distancia de Km a Millas\n",
    "distanceMillas = distance * 0.621\n",
    "print(f\"Distancia en millas: {distanceMillas}\")\n",
    "\n"
   ]
  },
  {
   "cell_type": "markdown",
   "metadata": {},
   "source": [
    "#Ejercicio 2: convierte cadenas en números y usa valores absolutos"
   ]
  },
  {
   "cell_type": "code",
   "execution_count": 8,
   "metadata": {},
   "outputs": [
    {
     "ename": "ValueError",
     "evalue": "invalid literal for int() with base 10: ''",
     "output_type": "error",
     "traceback": [
      "\u001b[1;31m---------------------------------------------------------------------------\u001b[0m",
      "\u001b[1;31mValueError\u001b[0m                                Traceback (most recent call last)",
      "\u001b[1;32md:\\Usuario\\Gerardo\\Documentos\\Launch X\\kata05-operaciones-matematicas.ipynb Cell 4'\u001b[0m in \u001b[0;36m<module>\u001b[1;34m\u001b[0m\n\u001b[0;32m      <a href='vscode-notebook-cell:/d%3A/Usuario/Gerardo/Documentos/Launch%20X/kata05-operaciones-matematicas.ipynb#ch0000007?line=0'>1</a>\u001b[0m \u001b[39m# Almacenar datos dados por el usuario y convertir a tipo numerico\u001b[39;00m\n\u001b[1;32m----> <a href='vscode-notebook-cell:/d%3A/Usuario/Gerardo/Documentos/Launch%20X/kata05-operaciones-matematicas.ipynb#ch0000007?line=1'>2</a>\u001b[0m firstPlanet \u001b[39m=\u001b[39m \u001b[39mint\u001b[39;49m(\u001b[39minput\u001b[39;49m(\u001b[39m'\u001b[39;49m\u001b[39mIntroduce la distancia del sol para el primer planeta en KM\u001b[39;49m\u001b[39m'\u001b[39;49m))\n\u001b[0;32m      <a href='vscode-notebook-cell:/d%3A/Usuario/Gerardo/Documentos/Launch%20X/kata05-operaciones-matematicas.ipynb#ch0000007?line=2'>3</a>\u001b[0m secondPlanet \u001b[39m=\u001b[39m \u001b[39mint\u001b[39m(\u001b[39minput\u001b[39m(\u001b[39m'\u001b[39m\u001b[39mIntroducela distancia desde el sol para el segundo planeta en KM\u001b[39m\u001b[39m'\u001b[39m))\n\u001b[0;32m      <a href='vscode-notebook-cell:/d%3A/Usuario/Gerardo/Documentos/Launch%20X/kata05-operaciones-matematicas.ipynb#ch0000007?line=4'>5</a>\u001b[0m \u001b[39m#Calculamos la distancia en Km\u001b[39;00m\n",
      "\u001b[1;31mValueError\u001b[0m: invalid literal for int() with base 10: ''"
     ]
    }
   ],
   "source": [
    "# Almacenar datos dados por el usuario y convertir a tipo numerico\n",
    "firstPlanet = int(input('Introduce la distancia del sol para el primer planeta en KM'))\n",
    "secondPlanet = int(input('Introducela distancia desde el sol para el segundo planeta en KM'))\n",
    "\n",
    "#Calculamos la distancia en Km\n",
    "distancekm = secondPlanet - firstPlanet\n",
    "print(distancekm)\n",
    "\n",
    "#Convertimos la distancia de Km a Millas\n",
    "distanceMillas = distancekm * 0.621\n",
    "print(abs(distanceMillas))"
   ]
  }
 ],
 "metadata": {
  "interpreter": {
   "hash": "b89b5cfaba6639976dc87ff2fec6d58faec662063367e2c229c520fe71072417"
  },
  "kernelspec": {
   "display_name": "Python 3.10.2 64-bit",
   "language": "python",
   "name": "python3"
  },
  "language_info": {
   "codemirror_mode": {
    "name": "ipython",
    "version": 3
   },
   "file_extension": ".py",
   "mimetype": "text/x-python",
   "name": "python",
   "nbconvert_exporter": "python",
   "pygments_lexer": "ipython3",
   "version": "3.10.2"
  },
  "orig_nbformat": 4
 },
 "nbformat": 4,
 "nbformat_minor": 2
}
