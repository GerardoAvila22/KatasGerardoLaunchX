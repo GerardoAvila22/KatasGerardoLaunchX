{
 "cells": [
  {
   "cell_type": "markdown",
   "metadata": {},
   "source": [
    "#Ejercicio: Uso de funciones en Python\n",
    "Ejercicio 1: Trabajar con argumentos en funciones"
   ]
  },
  {
   "cell_type": "code",
   "execution_count": 11,
   "metadata": {},
   "outputs": [
    {
     "name": "stdout",
     "output_type": "stream",
     "text": [
      "Informe de combustible:\n",
      " Promedio total: 78.33333333333333\n",
      " Tanque principal: 80\n",
      " Tanque secundario: 70\n",
      " Tanque de reserva: 85%\n",
      "Informe de combustible:\n",
      " Promedio total: 78.0\n",
      " Tanque principal: 88\n",
      " Tanque secundario: 76\n",
      " Tanque de reserva: 70%\n"
     ]
    }
   ],
   "source": [
    "# Función para leer 3 tanques de combustible y muestre el promedio\n",
    "def report(mainTank, secondaryTank, reserveTank):\n",
    "    average = (mainTank + secondaryTank + reserveTank) / 3\n",
    "    return f\"Informe de combustible:\\n Promedio total: {average}\\n Tanque principal: {mainTank}\\n Tanque secundario: {secondaryTank}\\n Tanque de reserva: {reserveTank}%\"\n",
    "\n",
    "print(report(80, 70, 85))\n",
    "\n",
    "# Función promedio \n",
    "def average(values):\n",
    "    total = sum(values)\n",
    "    number_of_items = len(values)\n",
    "    return total / number_of_items\n",
    "\n",
    "average([80, 85, 81]) \n",
    "\n",
    "\n",
    "# Actualiza la función\n",
    "def report(mainTank, secondaryTank, reserveTank):    \n",
    "    return f\"Informe de combustible:\\n Promedio total: {average([mainTank, secondaryTank, reserveTank])}\\n Tanque principal: {mainTank}\\n Tanque secundario: {secondaryTank}\\n Tanque de reserva: {reserveTank}%\"\n",
    "\n",
    "print(report(88, 76, 70))"
   ]
  },
  {
   "cell_type": "markdown",
   "metadata": {},
   "source": [
    "Ejercicio 2: Trabajo con argumentos de palabra clave\n",
    "Ejercicio : Trabajar con argumentos de palabras clave en funciones"
   ]
  },
  {
   "cell_type": "code",
   "execution_count": 16,
   "metadata": {},
   "outputs": [
    {
     "name": "stdout",
     "output_type": "stream",
     "text": [
      "Misión a Moon\n",
      " Tiempo total de viaje: 65 minutos\n",
      " Combustible total restante: 500000 galones\n",
      "Misión a Moon\n",
      " Tiempo total de viaje: 76 minutos\n",
      " Combustible total restante: 500000\n",
      "Mision a Moon\n",
      " Tiempo total de viaje: 74 minutes\n",
      " Combustible total restante: 500000main tank --> 300000 gallons left\n",
      "external tank --> 200000 gallons left\n",
      "\n"
     ]
    }
   ],
   "source": [
    "# Función con un informe preciso de la misión. \n",
    "\n",
    "def mission_report(preLaunchtime, flightTime, destination, externalTank, mainTank):\n",
    "    return f\"Misión a {destination}\\n Tiempo total de viaje: {preLaunchtime + flightTime} minutos\\n Combustible total restante: {externalTank + mainTank} galones\"\n",
    "\n",
    "print(mission_report(14, 51, \"Moon\", 200000, 300000))\n",
    "\n",
    "# Nueva función de reporte considerando lo anterior\n",
    "\n",
    "def mission_report(destination, *minutes, **fuel_reservoirs):\n",
    "    return f\"Misión a {destination}\\n Tiempo total de viaje: {sum(minutes)} minutos\\n Combustible total restante: {sum(fuel_reservoirs.values())}\"\n",
    "\n",
    "print(mission_report(\"Moon\", 10, 15, 51, main=300000, external=200000))\n",
    "\n",
    "# Escribe tu nueva función\n",
    "\n",
    "def mission_report(destination, *minutes, **fuelReservoirs):\n",
    "    mainReport = f\"Mision a {destination}\\n Tiempo total de viaje: {sum(minutes)} minutes\\n Combustible total restante: {sum(fuelReservoirs.values())}\"\n",
    "    \n",
    "    for tankName, gallons in fuelReservoirs.items():\n",
    "        mainReport += f\"{tankName} tank --> {gallons} gallons left\\n\"\n",
    "    return mainReport\n",
    "\n",
    "print(mission_report(\"Moon\", 8, 11, 55, main=300000, external=200000))\n",
    "\n",
    "\n"
   ]
  }
 ],
 "metadata": {
  "language_info": {
   "name": "python"
  },
  "orig_nbformat": 4
 },
 "nbformat": 4,
 "nbformat_minor": 2
}
