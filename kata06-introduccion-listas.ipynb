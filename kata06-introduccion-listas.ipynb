{
 "cells": [
  {
   "cell_type": "markdown",
   "metadata": {},
   "source": [
    "#Ejercicio1: Crear y usar listas de Python\n",
    "\n",
    "Ejercicio: Usar listas para almacenar nombres de planetas"
   ]
  },
  {
   "cell_type": "code",
   "execution_count": 10,
   "metadata": {},
   "outputs": [
    {
     "name": "stdout",
     "output_type": "stream",
     "text": [
      "Hay  8 planetas\n",
      "\n",
      "Ahora hay  9 planetas y  Pluto es el ultimo Planeta de la lista\n"
     ]
    }
   ],
   "source": [
    "#Creamos una lista y agregamos 8 planetas\n",
    "planets = ['Mercurio', 'Venus', 'Tierra', 'Marte', 'Júpiter', 'Saturno', 'Urano' 'Neptuno']\n",
    "\n",
    "print(\"Hay \", len(planets) + 1, \"planetas\\n\")\n",
    "\n",
    "\n",
    "planets.append('Pluto')\n",
    "\n",
    "print(\"Ahora hay \", len(planets)+1, \"planetas y \", planets[-1], \"es el ultimo Planeta de la lista\")"
   ]
  },
  {
   "cell_type": "markdown",
   "metadata": {},
   "source": [
    "#Ejercicio 2: Trabajando con datos de una lista\n",
    "\n",
    "Usar slices para recuperar partes de una lista"
   ]
  },
  {
   "cell_type": "code",
   "execution_count": 18,
   "metadata": {},
   "outputs": [
    {
     "name": "stdout",
     "output_type": "stream",
     "text": [
      "Los planetas más cerca queEarth\n",
      "['Mercury', 'Venus']\n",
      "Los planetas mas cerca que Earth\n",
      "['Mars', 'Jupiter', 'Saturn', 'Neptune']\n"
     ]
    }
   ],
   "source": [
    "# Lista de planetas\n",
    "planets = ['Mercury', 'Venus', 'Earth', 'Mars', 'Jupiter', 'Saturn', 'Neptune']\n",
    "\n",
    "user_planet = input(\"Ingrese el nombre del planeta (con una letra mayúscula al principio)\")\n",
    "\n",
    "planet_index = planets.index(user_planet)\n",
    "\n",
    "print('Los planetas más cerca que' + user_planet)\n",
    "print(planets[0:planet_index])\n",
    "\n",
    "print('Los planetas mas cerca que ' + user_planet)\n",
    "print(planets[planet_index + 1:])"
   ]
  }
 ],
 "metadata": {
  "interpreter": {
   "hash": "a7cd894c5b3252bffcd21f8abcdb2c0009973ede657c35af5011de10f8b6cf96"
  },
  "kernelspec": {
   "display_name": "Python 3.10.2 64-bit (windows store)",
   "language": "python",
   "name": "python3"
  },
  "language_info": {
   "codemirror_mode": {
    "name": "ipython",
    "version": 3
   },
   "file_extension": ".py",
   "mimetype": "text/x-python",
   "name": "python",
   "nbconvert_exporter": "python",
   "pygments_lexer": "ipython3",
   "version": "3.10.2"
  },
  "orig_nbformat": 4
 },
 "nbformat": 4,
 "nbformat_minor": 2
}
