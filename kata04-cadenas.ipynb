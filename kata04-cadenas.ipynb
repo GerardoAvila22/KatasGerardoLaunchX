{
 "cells": [
  {
   "cell_type": "markdown",
   "metadata": {},
   "source": [
    "Ejercicio 1: Transformar cadenas"
   ]
  },
  {
   "cell_type": "code",
   "execution_count": 21,
   "metadata": {},
   "outputs": [
    {
     "name": "stdout",
     "output_type": "stream",
     "text": [
      "On average, the Moon moves 4cm away from the Earth every year\n",
      "The highest daylight temperature of the Moon is 127 C.\n",
      "\n",
      "Cambiar C a Celsius:\n",
      "\n",
      "On average, the Moon moves 4cm away from the Earth every year\n",
      "The highest daylight temperature of the Moon is 127 Celsius.\n"
     ]
    }
   ],
   "source": [
    "text = \"\"\"Interesting facts about the Moon. The Moon is Earth's only satellite. There are several interesting facts about the Moon and how it affects life here on Earth. On average, the Moon moves 4cm away from the Earth every year. This yearly drift is not significant enough to cause immediate effects on Earth. The highest daylight temperature of the Moon is 127 C.\"\"\"\n",
    "\n",
    "textPart = text.split('. ')\n",
    "\n",
    "keyWords = [\"average\", \"temperature\", \"distance\"]\n",
    "\n",
    "for sentence in textPart:\n",
    "    for word in keyWords:        \n",
    "        if word in sentence:\n",
    "            print(sentence)  \n",
    "\n",
    "print('\\n'\"Cambiar C a Celsius:\" '\\n')\n",
    "\n",
    "for sentence in textPart:\n",
    "    for word in keyWords:        \n",
    "        if word in sentence:\n",
    "            print(sentence.replace(' C', ' Celsius'))\n",
    "    \n"
   ]
  },
  {
   "cell_type": "markdown",
   "metadata": {},
   "source": [
    "#Ejercicio 2: Formateando Cadenas"
   ]
  },
  {
   "cell_type": "code",
   "execution_count": 46,
   "metadata": {},
   "outputs": [
    {
     "name": "stdout",
     "output_type": "stream",
     "text": [
      "The gravity in the Earth and Moon\n",
      "----------------------------------------\n",
      "Nombre del Planeta : Earth \n",
      "Gravedad en Moon: 1.6199999999999999 m/s2\n",
      "\n",
      "Título y los hechos unidos\n",
      "\n",
      "The Gravity In The Earth And Moon\n",
      " ----------------------------------------\n",
      "Nombre del Planeta : Earth \n",
      "Gravedad en Moon: 1.6199999999999999 m/s2\n",
      "\n",
      "Nueva Plantilla\n",
      "\n",
      "Datos de Gravedad sobre: Ganímedes\n",
      "------------------------------------\n",
      "Nombre del planeta: Marte \n",
      "Gravedad en Ganímedes: 0.00143 m/s2\n",
      "\n"
     ]
    }
   ],
   "source": [
    "name = \"Moon\"\n",
    "gravity = 0.00162 # in kms\n",
    "planet = \"Earth\"\n",
    "\n",
    "#Titulo \n",
    "title = f'The gravity in the {planet} and {name}' \n",
    "print(title)\n",
    "\n",
    "#Plantilla\n",
    "datos= f\"{'-'*40}\\nNombre del Planeta : {planet} \\nGravedad en {name}: {gravity * 1000} m/s2\"\n",
    "print(datos)\n",
    "\n",
    "#Unimos el titulo y la plantilla \n",
    "print(\"\\nTítulo y los hechos unidos\\n\")\n",
    "template = f\"{title.title()}\\n {datos}\"\n",
    "print(template)\n",
    "\n",
    "\n",
    "#Datos de la Nueva Plantilla\n",
    "print(\"\\nNueva Plantilla\")\n",
    "name = 'Ganímedes'\n",
    "gravity = 0.00143\n",
    "planet = 'Marte '\n",
    "\n",
    "new_template = \"\"\"\n",
    "Datos de Gravedad sobre: {name}\n",
    "------------------------------------\n",
    "Nombre del planeta: {planet}\n",
    "Gravedad en {name}: {gravity} m/s2\n",
    "\"\"\"\n",
    "print(new_template.format(name=name, planet=planet, gravity=gravity))"
   ]
  }
 ],
 "metadata": {
  "interpreter": {
   "hash": "a7cd894c5b3252bffcd21f8abcdb2c0009973ede657c35af5011de10f8b6cf96"
  },
  "kernelspec": {
   "display_name": "Python 3.10.2 64-bit (windows store)",
   "language": "python",
   "name": "python3"
  },
  "language_info": {
   "codemirror_mode": {
    "name": "ipython",
    "version": 3
   },
   "file_extension": ".py",
   "mimetype": "text/x-python",
   "name": "python",
   "nbconvert_exporter": "python",
   "pygments_lexer": "ipython3",
   "version": "3.10.2"
  },
  "orig_nbformat": 4
 },
 "nbformat": 4,
 "nbformat_minor": 2
}
